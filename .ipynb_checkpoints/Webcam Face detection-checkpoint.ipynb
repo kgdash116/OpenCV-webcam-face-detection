{
 "cells": [
  {
   "cell_type": "code",
   "execution_count": 5,
   "id": "29030bd8",
   "metadata": {},
   "outputs": [],
   "source": [
    "import numpy\n",
    "import cv2"
   ]
  },
  {
   "cell_type": "code",
   "execution_count": 6,
   "id": "ad4354a7",
   "metadata": {},
   "outputs": [],
   "source": [
    "face_detector=cv2.CascadeClassifier('./model/haarcascade_frontalface_default.xml')"
   ]
  },
  {
   "cell_type": "code",
   "execution_count": 7,
   "id": "7cd30f87",
   "metadata": {},
   "outputs": [],
   "source": [
    "def face_detection(img):\n",
    "    image=img.copy()\n",
    "    gray_image=cv2.cvtColor(image,cv2.COLOR_BGR2GRAY)\n",
    "    box,num_of_detections=face_detector.detectMultiScale2(gray_image,minNeighbors=8)\n",
    "    \n",
    "    for x,y,w,h in box:\n",
    "        cv2.rectangle(image,(x,y),(x+w,y+h),(0,255,0))\n",
    "        \n",
    "    return image"
   ]
  },
  {
   "cell_type": "code",
   "execution_count": 8,
   "id": "91c693dc",
   "metadata": {},
   "outputs": [],
   "source": [
    "cap=cv2.VideoCapture(0)\n",
    "\n",
    "while True:\n",
    "    ret,frame=cap.read()\n",
    "    if ret==False:\n",
    "        print(\"Cant\")\n",
    "        break\n",
    "    image_detect=face_detection(frame)\n",
    "    cv2.imshow('realtime_face_detection',image_detect)\n",
    "    if cv2.waitKey(1)==ord('q'):\n",
    "        break\n",
    "    \n",
    "cap.release()\n",
    "cv2.destroyAllWindows()"
   ]
  },
  {
   "cell_type": "code",
   "execution_count": null,
   "id": "933b57d7",
   "metadata": {},
   "outputs": [],
   "source": []
  }
 ],
 "metadata": {
  "kernelspec": {
   "display_name": "Python 3 (ipykernel)",
   "language": "python",
   "name": "python3"
  },
  "language_info": {
   "codemirror_mode": {
    "name": "ipython",
    "version": 3
   },
   "file_extension": ".py",
   "mimetype": "text/x-python",
   "name": "python",
   "nbconvert_exporter": "python",
   "pygments_lexer": "ipython3",
   "version": "3.9.12"
  }
 },
 "nbformat": 4,
 "nbformat_minor": 5
}
